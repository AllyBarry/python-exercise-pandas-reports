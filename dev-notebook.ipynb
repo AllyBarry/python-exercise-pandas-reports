{
 "cells": [
  {
   "cell_type": "code",
   "execution_count": 65,
   "metadata": {},
   "outputs": [],
   "source": [
    "import pandas as pd\n",
    "import datetime as dt\n",
    "csv_file = \"./sample-files/2022_06_02_payments.csv\"\n",
    "\n",
    "df = pd.read_csv(csv_file)\n",
    "# print(df.head())\n",
    "\n",
    "# Filters\n",
    "# Filter out payments that aren't 'SUCCESSFUL'\n",
    "df = df[df[\"status\"] == \"SUCCESSFUL\"]\n",
    "# 'CLIENT_REFERRAL' count as payment?"
   ]
  },
  {
   "cell_type": "code",
   "execution_count": null,
   "metadata": {},
   "outputs": [],
   "source": [
    "payment_types = df.groupby(\"payment_type\")[\"payment_amount\"].sum().sort_index()\n",
    "print(payment_types)\n",
    "\n",
    "payment_types.to_csv(\"./output/payment_types.csv\")\n",
    "# for (p_type, rows) in payment_types:\n",
    "#     print(p_type)"
   ]
  },
  {
   "cell_type": "code",
   "execution_count": 42,
   "metadata": {},
   "outputs": [],
   "source": [
    "df[\"date\"] = pd.to_datetime(df[\"created\"]).dt.date\n",
    "sum_df = df.groupby(by=[\"agent_user_id\", \"date\", \"payment_type\"], as_index=False, sort=True)[\"payment_amount\"].sum()\n",
    "# agent_rows = df.groupby(by=[\"agent_user_id\", \"date\", \"payment_type\"], as_index=False, sort=True)\n",
    "# agent_rows = df.groupby(pd.Grouper(key=\"date\", axis=0, freq='1D'))\n"
   ]
  },
  {
   "cell_type": "code",
   "execution_count": 47,
   "metadata": {},
   "outputs": [
    {
     "name": "stdout",
     "output_type": "stream",
     "text": [
      "   agent_user_id        date     payment_type  payment_amount\n",
      "0             13  2018-12-06             CASH             120\n",
      "1             13  2018-12-07             CASH             480\n",
      "2             13  2018-12-08             CASH             300\n",
      "3             13  2018-12-09             CASH              60\n",
      "4             17  2018-12-06  CLIENT_REFERRAL             480\n"
     ]
    }
   ],
   "source": [
    "sum_df.to_csv(\"./output/agent_collection_report.csv\", index=False, header=[\"agent_user_id\", \"date\", \"payment_type\", \"total_amount\"])\n"
   ]
  },
  {
   "cell_type": "code",
   "execution_count": 141,
   "metadata": {},
   "outputs": [
    {
     "name": "stdout",
     "output_type": "stream",
     "text": [
      "Grace Period 1\n",
      "Grace Period 1\n",
      "Grace Period 1\n",
      "Grace Period 1\n",
      "Grace Period 1\n",
      "Grace Period 1\n",
      "Grace Period 1\n",
      "Grace Period 1\n",
      "Grace Period 1\n",
      "Grace Period 1\n",
      "Grace Period 1\n",
      "Grace Period 1\n",
      "Grace Period 1\n",
      "Grace Period 1\n",
      "Grace Period 1\n",
      "Grace Period 1\n",
      "Grace Period 1\n",
      "Grace Period 1\n",
      "Grace Period 1\n",
      "Grace Period 1\n",
      "Grace Period 1\n",
      "Grace Period 1\n",
      "Grace Period 1\n",
      "Grace Period 1\n",
      "Grace Period 1\n",
      "Grace Period 1\n",
      "Grace Period 1\n",
      "Grace Period 1\n",
      "Grace Period 1\n",
      "Grace Period 1\n",
      "Grace Period 1\n",
      "Grace Period 1\n",
      "Grace Period 1\n",
      "Grace Period 1\n",
      "Grace Period 1\n",
      "Grace Period 1\n",
      "Grace Period 1\n",
      "Grace Period 1\n",
      "Grace Period 1\n",
      "Grace Period 1\n",
      "Grace Period 1\n",
      "Grace Period 1\n",
      "Grace Period 1\n",
      "Grace Period 1\n",
      "Grace Period 1\n",
      "Grace Period 1\n",
      "Grace Period 1\n",
      "Grace Period 1\n",
      "Grace Period 1\n",
      "Grace Period 1\n",
      "Grace Period 1\n",
      "Grace Period 1\n",
      "Grace Period 1\n",
      "Grace Period 1\n",
      "Grace Period 1\n",
      "Grace Period 1\n",
      "Grace Period 1\n",
      "Grace Period 1\n",
      "Grace Period 1\n",
      "Grace Period 1\n",
      "Grace Period 1\n",
      "Grace Period 1\n",
      "Grace Period 1\n",
      "Grace Period 1\n",
      "Grace Period 1\n",
      "Grace Period 1\n",
      "Grace Period 1\n",
      "Grace Period 1\n",
      "Grace Period 1\n",
      "Grace Period 1\n",
      "Grace Period 1\n",
      "Grace Period 1\n",
      "Grace Period 1\n",
      "Grace Period 1\n",
      "Grace Period 1\n",
      "Grace Period 1\n",
      "Grace Period 1\n",
      "Grace Period 1\n",
      "Grace Period 1\n",
      "Grace Period 1\n",
      "Grace Period 1\n",
      "Grace Period 1\n",
      "Grace Period 1\n",
      "Grace Period 1\n",
      "Grace Period 1\n",
      "Grace Period 1\n",
      "Grace Period 1\n",
      "Grace Period 1\n",
      "Grace Period 1\n",
      "Grace Period 1\n",
      "Grace Period 1\n",
      "Grace Period 1\n",
      "Grace Period 1\n",
      "Grace Period 1\n",
      "Grace Period 1\n",
      "Grace Period 1\n",
      "Grace Period 1\n"
     ]
    }
   ],
   "source": [
    "def return_policy_status(last_payment_date, current_date = dt.datetime.now().date()):\n",
    "    last_payment = pd.to_datetime(last_payment_date).date()\n",
    "    days_ago = (current_date - last_payment).days\n",
    "    return days_ago\n",
    "\n",
    "def days_from_suspension(input_group):\n",
    "    test_input_date = input_group[\"created\"].values[0]\n",
    "    last_payment = return_policy_status(test_input_date, dt.datetime(2019,2,2).date())\n",
    "    return last_payment\n",
    "\n",
    "new_df = df.groupby(\"device_id\").apply(func=days_from_suspension).to_frame()\n",
    "new_df.set_axis([\"days_from_suspension\"], inplace=True, axis='columns')\n",
    "new_df.sort_values(by=\"days_from_suspension\", inplace=True)\n",
    "new_df.head()\n",
    "new_df.to_csv(\"./output/days_from_suspension_report.csv\")"
   ]
  }
 ],
 "metadata": {
  "kernelspec": {
   "display_name": "Python 3.9.0 64-bit ('3.9.0')",
   "language": "python",
   "name": "python3"
  },
  "language_info": {
   "codemirror_mode": {
    "name": "ipython",
    "version": 3
   },
   "file_extension": ".py",
   "mimetype": "text/x-python",
   "name": "python",
   "nbconvert_exporter": "python",
   "pygments_lexer": "ipython3",
   "version": "3.9.0"
  },
  "orig_nbformat": 4,
  "vscode": {
   "interpreter": {
    "hash": "1a6c3b8b0187e98cabd5c9845bdf7612eda76f9e541cdfc909bc3c90cf1584e9"
   }
  }
 },
 "nbformat": 4,
 "nbformat_minor": 2
}
